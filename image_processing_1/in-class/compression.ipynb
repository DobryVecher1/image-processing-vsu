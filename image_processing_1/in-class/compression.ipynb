{
 "cells": [
  {
   "cell_type": "markdown",
   "id": "4f5cdee6",
   "metadata": {},
   "source": [
    "Упрощенный пример .jpeg"
   ]
  },
  {
   "cell_type": "code",
   "execution_count": 1,
   "id": "d283fcd7",
   "metadata": {},
   "outputs": [],
   "source": [
    "import cv2\n",
    "import numpy as np\n",
    "from matplotlib import pyplot as plt\n",
    "from PIL import Image"
   ]
  },
  {
   "cell_type": "markdown",
   "id": "a03206ce",
   "metadata": {},
   "source": [
    "Светимость Y пропорциональна мощности источника света (соотносится с восприятием яркости глазом человека).\n",
    "\n",
    "Определяется как $\\frac{77}{256} R + \\frac{150}{256} G + \\frac{29}{256} R$\n",
    "\n",
    "$C_b = B - Y$ (хроматический синий), $C_r = R - Y$"
   ]
  },
  {
   "cell_type": "code",
   "execution_count": 2,
   "id": "28b081c2",
   "metadata": {},
   "outputs": [],
   "source": [
    "y_quant = np.array([\n",
    "[16, 11, 10, 16, 24, 40, 51, 61,],\n",
    "[12, 12, 14, 19, 26, 58, 60, 55,],\n",
    "[14, 13, 16, 24, 40, 57, 69, 56,],\n",
    "[14, 17, 22, 29, 51, 87, 80, 62,],\n",
    "[18, 22, 37, 56, 68, 109, 103, 77,],\n",
    "[24, 35, 55, 64, 81, 104, 113, 92,],\n",
    "[49, 64, 78, 87, 103, 121, 120, 101,],\n",
    "[72, 92, 95, 98, 112, 100, 103, 99,],\n",
    "])\n",
    "chroma_quant = np.array([\n",
    "[17, 18, 24, 47, 99, 99, 99, 99,],\n",
    "[18, 21, 26, 66, 99, 99, 99, 99,],\n",
    "[24, 26, 56, 99, 99, 99, 99, 99,],\n",
    "[47, 66, 99, 99, 99, 99, 99, 99,],\n",
    "[99, 99, 99, 99, 99, 99, 99, 99,],\n",
    "[99, 99, 99, 99, 99, 99, 99, 99,],\n",
    "[99, 99, 99, 99, 99, 99, 99, 99,],\n",
    "[99, 99, 99, 99, 99, 99, 99, 99,],\n",
    "])"
   ]
  },
  {
   "cell_type": "markdown",
   "id": "1e9a5d20",
   "metadata": {},
   "source": [
    "Простой пример"
   ]
  },
  {
   "cell_type": "code",
   "execution_count": 3,
   "id": "58623bb1",
   "metadata": {},
   "outputs": [
    {
     "name": "stdout",
     "output_type": "stream",
     "text": [
      "[[-414.  -29.  -62.   25.   55.  -20.   -1.    2.]\n",
      " [   6.  -21.  -62.    8.   12.   -7.   -6.    7.]\n",
      " [ -46.    8.   77.  -26.  -30.   10.    6.   -5.]\n",
      " [ -49.   12.   34.  -14.  -10.    6.    1.    1.]\n",
      " [  11.   -8.  -12.   -2.   -1.    1.   -5.    2.]\n",
      " [ -10.    1.    3.   -3.   -0.    0.    2.   -0.]\n",
      " [  -3.   -1.    1.    0.    1.   -4.    2.   -3.]\n",
      " [  -1.   -1.   -0.   -3.   -0.   -0.   -1.    0.]]\n"
     ]
    }
   ],
   "source": [
    "import scipy.fft\n",
    "\n",
    "a_orig = np.array([\n",
    "    [52, 55, 61, 66, 70, 61, 64, 73,],\n",
    "    [63, 59, 66, 90, 109, 85, 69, 72,],\n",
    "    [62, 59, 68, 113, 144, 104, 66, 73,],\n",
    "    [63, 58, 71, 122, 154, 106, 70, 69,],\n",
    "    [67, 61, 68, 104, 126, 88, 68, 70,],\n",
    "    [79, 65, 60, 70, 77, 68, 58, 75,],\n",
    "    [85, 71, 64, 59, 55, 61, 65, 83,],\n",
    "    [87, 79, 69, 68, 65, 76, 78, 94,],\n",
    "])\n",
    "# Сдвигаем диапазон значений\n",
    "a_encode = a_orig - 128\n",
    "# Находим дискретное косинусное преобразование для блока 8x8\n",
    "a_encode = np.round(scipy.fft.dctn(a_encode, norm='ortho'))\n",
    "print(a_encode)\n"
   ]
  },
  {
   "cell_type": "code",
   "execution_count": 4,
   "id": "10f04a61",
   "metadata": {},
   "outputs": [
    {
     "name": "stdout",
     "output_type": "stream",
     "text": [
      "[[-26  -3  -6   2   2   0   0   0]\n",
      " [  0  -2  -4   0   0   0   0   0]\n",
      " [ -3   1   5  -1  -1   0   0   0]\n",
      " [ -4   1   2   0   0   0   0   0]\n",
      " [  1   0   0   0   0   0   0   0]\n",
      " [  0   0   0   0   0   0   0   0]\n",
      " [  0   0   0   0   0   0   0   0]\n",
      " [  0   0   0   0   0   0   0   0]]\n"
     ]
    }
   ],
   "source": [
    "# Квантование\n",
    "a_encode = np.round(a_encode/y_quant).astype(int)\n",
    "print(a_encode)"
   ]
  },
  {
   "cell_type": "code",
   "execution_count": 5,
   "id": "b8f7fc95",
   "metadata": {},
   "outputs": [
    {
     "name": "stdout",
     "output_type": "stream",
     "text": [
      "[-26  -3   0  -3  -2  -6   2  -4   1  -4   1   1   5   0   2   0   0  -1\n",
      "   2   0   0   0   0   0   0  -1   0   0   0   0   0   0   0   0   0   0\n",
      "   0   0   0   0   0   0   0   0   0   0   0   0   0   0   0   0   0   0\n",
      "   0   0   0   0   0   0   0   0   0   0]\n"
     ]
    }
   ],
   "source": [
    "def zigzag_order(matrix):\n",
    "    rows, cols = matrix.shape\n",
    "    result = []\n",
    "    \n",
    "    for s in range(rows + cols - 1):\n",
    "        if s % 2 == 0:\n",
    "            # Even index sum — go up-right\n",
    "            for i in range(s, -1, -1):\n",
    "                j = s - i\n",
    "                if i < rows and j < cols:\n",
    "                    result.append(matrix[i][j])\n",
    "        else:\n",
    "            # Odd index sum — go down-left\n",
    "            for j in range(s, -1, -1):\n",
    "                i = s - j\n",
    "                if i < rows and j < cols:\n",
    "                    result.append(matrix[i][j])\n",
    "    \n",
    "    return np.array(result)\n",
    "\n",
    "# Переупорядочим элементы в соответствии с зигзаг-преобразованием\n",
    "a_encode = zigzag_order(a_encode)\n",
    "print(a_encode)"
   ]
  },
  {
   "cell_type": "code",
   "execution_count": 6,
   "id": "1cea15ab",
   "metadata": {},
   "outputs": [],
   "source": [
    "# Example Huffman coding implementation from\n",
    "# https://gist.github.com/mreid/fdf6353ec39d050e972b\n",
    "\n",
    "def huffman(p):\n",
    "    '''Return a Huffman code for an ensemble with distribution p.'''\n",
    "    assert (sum(p.values()) == 1.0) # Ensure probabilities sum to 1\n",
    "\n",
    "    # Base case of only two symbols, assign 0 or 1 arbitrarily\n",
    "    if(len(p) == 2):\n",
    "        return dict(list(zip(list(sorted(p.keys())), ['0', '1'])))\n",
    "\n",
    "    # Create a new distribution by merging lowest prob. pair\n",
    "    p_prime = p.copy()\n",
    "    a1, a2 = lowest_prob_pair(p)\n",
    "    p1, p2 = p_prime.pop(a1), p_prime.pop(a2)\n",
    "    p_prime[a1 + a2] = p1 + p2\n",
    "\n",
    "    # Recurse and construct code on new distribution\n",
    "    c = huffman(p_prime)\n",
    "    ca1a2 = c.pop(a1 + a2)\n",
    "    c[a1], c[a2] = ca1a2 + '0', ca1a2 + '1'\n",
    "\n",
    "    return c\n",
    "\n",
    "def lowest_prob_pair(p):\n",
    "    '''Return pair of symbols from distribution p with lowest probabilities.'''\n",
    "    assert(len(p) >= 2) # Ensure there are at least 2 symbols in the dist.\n",
    "\n",
    "    sorted_p = sorted(list(p.items()), key=lambda i_pi: (i_pi[1],i_pi[0]))\n",
    "    return sorted_p[0][0], sorted_p[1][0]\n",
    "\n",
    "# ex2 = { 'a': 0.25, 'b': 0.25, 'c': 0.2, 'd': 0.15, 'e': 0.15 }\n",
    "# huffman(ex2)  # => {'a': '01', 'c': '00', 'b': '10', 'e': '110', 'd': '111'}\n"
   ]
  },
  {
   "cell_type": "code",
   "execution_count": 7,
   "id": "b635702f",
   "metadata": {},
   "outputs": [
    {
     "name": "stdout",
     "output_type": "stream",
     "text": [
      "{np.int64(-26): 1, np.int64(-3): 2, np.int64(0): 48, np.int64(-2): 1, np.int64(-6): 1, np.int64(2): 3, np.int64(-4): 2, np.int64(1): 3, np.int64(5): 1, np.int64(-1): 2}\n",
      "{'-26': 0.015625, '-3': 0.03125, '0': 0.75, '-2': 0.015625, '-6': 0.015625, '2': 0.046875, '-4': 0.03125, '1': 0.046875, '5': 0.015625, '-1': 0.03125}\n"
     ]
    }
   ],
   "source": [
    "from typing import Counter\n",
    "# Найдем частоту появления символов в изображении\n",
    "a_cnt = dict(Counter(a_encode))\n",
    "\n",
    "print(a_cnt)\n",
    "# Нормировка\n",
    "a_probs = {}\n",
    "for key in a_cnt:\n",
    "    a_probs[str(key)] = a_cnt[key]/64\n",
    "\n",
    "print(a_probs)"
   ]
  },
  {
   "cell_type": "code",
   "execution_count": 8,
   "id": "ff2cb009",
   "metadata": {},
   "outputs": [
    {
     "name": "stdout",
     "output_type": "stream",
     "text": [
      "{'0': '0', '2': '100', '1': '1111', '-3': '1100', '-4': '1101', '-1': '1010', '-6': '11100', '5': '11101', '-2': '10110', '-26': '10111'}\n"
     ]
    }
   ],
   "source": [
    "# Кодирование Хаффмана\n",
    "a_huff_encode = huffman(a_probs)\n",
    "print(a_huff_encode)\n",
    "# Для удобства декодирования такой же словарь, но поменяли местами key и value\n",
    "a_huff_decode = {v: k for k, v in a_huff_encode.items()}"
   ]
  },
  {
   "cell_type": "code",
   "execution_count": 9,
   "id": "10945a4a",
   "metadata": {},
   "outputs": [
    {
     "data": {
      "text/plain": [
       "113"
      ]
     },
     "execution_count": 9,
     "metadata": {},
     "output_type": "execute_result"
    }
   ],
   "source": [
    "# Выходные биты\n",
    "output_bits = []\n",
    "for elem in a_encode:\n",
    "    output_bits.append(a_huff_encode[str(elem)])\n",
    "\n",
    "len(''.join(output_bits))"
   ]
  },
  {
   "cell_type": "code",
   "execution_count": 10,
   "id": "3d599e22",
   "metadata": {},
   "outputs": [
    {
     "name": "stdout",
     "output_type": "stream",
     "text": [
      "[-26  -3   0  -3  -2  -6   2  -4   1  -4   1   1   5   0   2   0   0  -1\n",
      "   2   0   0   0   0   0   0  -1   0   0   0   0   0   0   0   0   0   0\n",
      "   0   0   0   0   0   0   0   0   0   0   0   0   0   0   0   0   0   0\n",
      "   0   0   0   0   0   0   0   0   0   0]\n"
     ]
    }
   ],
   "source": [
    "# Декодирование\n",
    "a_decoded = []\n",
    "for out in output_bits:\n",
    "    a_decoded.append(int(a_huff_decode[out]))\n",
    "\n",
    "a_decoded = np.array(a_decoded)\n",
    "\n",
    "print(a_decoded)"
   ]
  },
  {
   "cell_type": "code",
   "execution_count": 11,
   "id": "4494415c",
   "metadata": {},
   "outputs": [
    {
     "name": "stdout",
     "output_type": "stream",
     "text": [
      "[[-26  -3  -6   2   2   0   0   0]\n",
      " [  0  -2  -4   0   0   0   0   0]\n",
      " [ -3   1   5  -1  -1   0   0   0]\n",
      " [ -4   1   2   0   0   0   0   0]\n",
      " [  1   0   0   0   0   0   0   0]\n",
      " [  0   0   0   0   0   0   0   0]\n",
      " [  0   0   0   0   0   0   0   0]\n",
      " [  0   0   0   0   0   0   0   0]]\n"
     ]
    }
   ],
   "source": [
    "def inverse_zigzag_order(data, rows, cols):\n",
    "    matrix = np.zeros((rows, cols), dtype=data.dtype)\n",
    "    index = 0\n",
    "\n",
    "    for s in range(rows + cols - 1):\n",
    "        if s % 2 == 0:\n",
    "            # up-right\n",
    "            i = min(s, rows - 1)\n",
    "            j = s - i\n",
    "            while i >= 0 and j < cols:\n",
    "                matrix[i][j] = data[index]\n",
    "                index += 1\n",
    "                i -= 1\n",
    "                j += 1\n",
    "        else:\n",
    "            # down-left\n",
    "            j = min(s, cols - 1)\n",
    "            i = s - j\n",
    "            while j >= 0 and i < rows:\n",
    "                matrix[i][j] = data[index]\n",
    "                index += 1\n",
    "                i += 1\n",
    "                j -= 1\n",
    "\n",
    "    return matrix\n",
    "\n",
    "# Обратно возвращаемся к 2D представлению\n",
    "a_decoded = inverse_zigzag_order(a_decoded, 8, 8)\n",
    "print(a_decoded)\n"
   ]
  },
  {
   "cell_type": "code",
   "execution_count": 12,
   "id": "21b3fe02",
   "metadata": {},
   "outputs": [
    {
     "name": "stdout",
     "output_type": "stream",
     "text": [
      "[[-416  -33  -60   32   48    0    0    0]\n",
      " [   0  -24  -56    0    0    0    0    0]\n",
      " [ -42   13   80  -24  -40    0    0    0]\n",
      " [ -56   17   44    0    0    0    0    0]\n",
      " [  18    0    0    0    0    0    0    0]\n",
      " [   0    0    0    0    0    0    0    0]\n",
      " [   0    0    0    0    0    0    0    0]\n",
      " [   0    0    0    0    0    0    0    0]]\n"
     ]
    }
   ],
   "source": [
    "# Умножаем на коэффициенты квантования\n",
    "a_decoded *= y_quant\n",
    "\n",
    "print(a_decoded)"
   ]
  },
  {
   "cell_type": "code",
   "execution_count": 13,
   "id": "d0e2a8ef",
   "metadata": {},
   "outputs": [
    {
     "name": "stdout",
     "output_type": "stream",
     "text": [
      "[[-67 -67 -69 -69 -67 -63 -59 -57]\n",
      " [-75 -74 -61 -40 -33 -43 -56 -60]\n",
      " [-75 -78 -52  -6   8 -20 -51 -59]\n",
      " [-63 -77 -53   2  19 -18 -52 -57]\n",
      " [-50 -75 -67 -24 -10 -39 -62 -59]\n",
      " [-45 -71 -78 -57 -48 -62 -69 -59]\n",
      " [-42 -58 -69 -67 -64 -64 -59 -50]\n",
      " [-38 -44 -53 -61 -60 -52 -43 -37]]\n",
      "[[ 61  61  59  59  61  65  69  71]\n",
      " [ 53  54  67  88  95  85  72  68]\n",
      " [ 53  50  76 122 136 108  77  69]\n",
      " [ 65  51  75 130 147 110  76  71]\n",
      " [ 78  53  61 104 118  89  66  69]\n",
      " [ 83  57  50  71  80  66  59  69]\n",
      " [ 86  70  59  61  64  64  69  78]\n",
      " [ 90  84  75  67  68  76  85  91]]\n"
     ]
    }
   ],
   "source": [
    "# Обратное ДКП\n",
    "a_decoded = np.round(scipy.fft.idctn(a_decoded, norm='ortho')).astype(int)\n",
    "\n",
    "print(a_decoded)\n",
    "\n",
    "# Сдвигаем обратно в диапазон от 0 до 255\n",
    "a_decoded += 128\n",
    "print(a_decoded)"
   ]
  },
  {
   "cell_type": "code",
   "execution_count": 14,
   "id": "e143f8d0",
   "metadata": {},
   "outputs": [
    {
     "name": "stdout",
     "output_type": "stream",
     "text": [
      "5.921359641163505\n"
     ]
    }
   ],
   "source": [
    "# Найдем RMSE\n",
    "print((np.sum((a_orig - a_decoded)**2)/a_decoded.size)**(0.5))"
   ]
  },
  {
   "cell_type": "code",
   "execution_count": null,
   "id": "92f5aba3",
   "metadata": {},
   "outputs": [],
   "source": []
  }
 ],
 "metadata": {
  "kernelspec": {
   "display_name": ".venv",
   "language": "python",
   "name": "python3"
  },
  "language_info": {
   "codemirror_mode": {
    "name": "ipython",
    "version": 3
   },
   "file_extension": ".py",
   "mimetype": "text/x-python",
   "name": "python",
   "nbconvert_exporter": "python",
   "pygments_lexer": "ipython3",
   "version": "3.11.9"
  }
 },
 "nbformat": 4,
 "nbformat_minor": 5
}
